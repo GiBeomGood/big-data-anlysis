{
 "cells": [
  {
   "cell_type": "code",
   "execution_count": 1,
   "metadata": {},
   "outputs": [],
   "source": [
    "import argparse\n",
    "import pickle\n",
    "\n",
    "import pandas as pd\n",
    "\n",
    "from communityDetection import load_network\n",
    "from models import *\n",
    "from utils.util import eval"
   ]
  },
  {
   "cell_type": "code",
   "execution_count": 5,
   "metadata": {},
   "outputs": [],
   "source": [
    "args = argparse.Namespace(\n",
    "    networkFile='TC1/TC1-6/1-6.dat',\n",
    "    communityFile='TC1/TC1-6/1-6-c.dat',\n",
    "    # communityFile=None,\n",
    "    communitySavePath='TC1/TC1-6/1-6.cmty',\n",
    ")\n",
    "\n",
    "graph = load_network(args.networkFile)"
   ]
  },
  {
   "cell_type": "code",
   "execution_count": 6,
   "metadata": {},
   "outputs": [
    {
     "name": "stderr",
     "output_type": "stream",
     "text": [
      "Epoch   0:   0%|          | 0/10000 [00:00<?, ?it/s]"
     ]
    },
    {
     "name": "stderr",
     "output_type": "stream",
     "text": [
      "Epoch   0: 100%|██████████| 10000/10000 [00:00<00:00, 27858.56it/s, eval score=81.4%]\n",
      "Epoch   1: 100%|██████████| 10000/10000 [00:00<00:00, 31995.70it/s, eval score=98.4%]\n",
      "Epoch   2: 100%|██████████| 10000/10000 [00:00<00:00, 34978.21it/s, eval score=99.5%]\n",
      "Epoch   3: 100%|██████████| 10000/10000 [00:00<00:00, 40822.15it/s, eval score=99.6%]\n",
      "Epoch   4: 100%|██████████| 10000/10000 [00:00<00:00, 39958.81it/s, eval score=99.7%]\n",
      "Epoch   5: 100%|██████████| 10000/10000 [00:00<00:00, 39502.72it/s, eval score=99.7%]\n",
      "Epoch   6: 100%|██████████| 10000/10000 [00:00<00:00, 40909.02it/s, eval score=99.7%]\n",
      "Epoch   7: 100%|██████████| 10000/10000 [00:00<00:00, 40823.77it/s, eval score=99.7%]\n",
      "Epoch   8: 100%|██████████| 10000/10000 [00:00<00:00, 40771.67it/s, eval score=99.7%]\n",
      "Epoch   9: 100%|██████████| 10000/10000 [00:00<00:00, 39639.73it/s, eval score=99.7%]\n",
      "Epoch  10: 100%|██████████| 10000/10000 [00:00<00:00, 36849.55it/s, eval score=99.7%]\n",
      "Epoch  11: 100%|██████████| 10000/10000 [00:00<00:00, 36018.72it/s, eval score=99.7%]\n",
      "Epoch  12: 100%|██████████| 10000/10000 [00:00<00:00, 34494.11it/s, eval score=99.7%]\n",
      "Epoch  13: 100%|██████████| 10000/10000 [00:00<00:00, 38980.27it/s, eval score=99.7%]\n",
      "Epoch  14: 100%|██████████| 10000/10000 [00:00<00:00, 39904.56it/s, eval score=99.7%]\n",
      "Epoch  15: 100%|██████████| 10000/10000 [00:00<00:00, 67097.27it/s, eval score=99.7%]\n",
      "Epoch  16: 100%|██████████| 10000/10000 [00:00<00:00, 40704.60it/s, eval score=99.6%]\n",
      "Epoch  17: 100%|██████████| 10000/10000 [00:00<00:00, 41346.13it/s, eval score=99.7%]\n",
      "Epoch  18: 100%|██████████| 10000/10000 [00:00<00:00, 41422.61it/s, eval score=99.6%]\n",
      "Epoch  19: 100%|██████████| 10000/10000 [00:00<00:00, 40927.07it/s, eval score=99.7%]\n"
     ]
    }
   ],
   "source": [
    "labels = nlta_algorithm(graph, args.communityFile, max_epochs=20)\n",
    "score = eval(labels, args.communityFile)"
   ]
  },
  {
   "cell_type": "code",
   "execution_count": null,
   "metadata": {},
   "outputs": [],
   "source": [
    "with open('./checkpoints/ours_with_coreness.pickle', 'rb') as f:\n",
    "    scores: dict[str, float] = pickle.load(f)\n",
    "\n",
    "scores_df = []\n",
    "for key, val in scores.items():\n",
    "    (*data_name, epsilon, strategy, coreness) = key.split('-')\n",
    "    data_name = '-'.join(data_name)\n",
    "    epsilon = float(epsilon)\n",
    "    coreness = (coreness == 'True')\n",
    "    coreness = bool(coreness)\n",
    "\n",
    "    scores_df.append([strategy, coreness, data_name, epsilon, val])\n",
    "\n",
    "scores_df = pd.DataFrame(scores_df, columns=['strategy', 'coreness', 'data_name', 'epsilon', 'score'])\n",
    "scores_df = scores_df.sort_values(by=['strategy', 'coreness', 'data_name', 'epsilon'])\n",
    "scores_df = scores_df.reset_index(drop=True)"
   ]
  },
  {
   "cell_type": "code",
   "execution_count": null,
   "metadata": {},
   "outputs": [
    {
     "name": "stdout",
     "output_type": "stream",
     "text": [
      "freq\tFalse\t1-1\t0.20\t1.0000\n",
      "freq\tFalse\t1-1\t0.25\t0.9998\n",
      "freq\tFalse\t1-1\t0.30\t1.0000\n",
      "freq\tFalse\t1-1\t0.35\t0.9999\n",
      "freq\tFalse\t1-1\t0.40\t0.9992\n",
      "freq\tFalse\t1-1\t0.45\t1.0000\n",
      "freq\tFalse\t1-1\t0.50\t0.9980\n",
      "freq\tFalse\t1-1\t0.55\t0.9996\n",
      "freq\tFalse\t1-1\t0.60\t0.9999\n",
      "freq\tFalse\t1-1\t0.65\t0.9999\n",
      "freq\tFalse\t1-1\t0.70\t0.9996\n",
      "freq\tFalse\t1-6\t0.20\t0.9966\n",
      "freq\tFalse\t1-6\t0.25\t0.9968\n",
      "freq\tFalse\t1-6\t0.30\t0.9972\n",
      "freq\tFalse\t1-6\t0.35\t0.9960\n",
      "freq\tFalse\t1-6\t0.40\t0.9973\n",
      "freq\tFalse\t1-6\t0.45\t0.9951\n",
      "freq\tFalse\t1-6\t0.50\t0.9975\n",
      "freq\tFalse\t1-6\t0.55\t0.9959\n",
      "freq\tFalse\t1-6\t0.60\t0.9968\n",
      "freq\tFalse\t1-6\t0.65\t0.9929\n",
      "freq\tFalse\t1-6\t0.70\t0.9965\n",
      "freq\tTrue\t1-1\t0.20\t0.9740\n",
      "freq\tTrue\t1-1\t0.25\t0.9996\n",
      "freq\tTrue\t1-1\t0.30\t0.9998\n",
      "freq\tTrue\t1-1\t0.35\t0.9984\n",
      "freq\tTrue\t1-1\t0.40\t0.9979\n",
      "freq\tTrue\t1-1\t0.45\t0.9950\n",
      "freq\tTrue\t1-1\t0.50\t0.9983\n",
      "freq\tTrue\t1-1\t0.55\t0.9929\n",
      "freq\tTrue\t1-1\t0.60\t0.9928\n",
      "freq\tTrue\t1-1\t0.65\t0.9900\n",
      "freq\tTrue\t1-1\t0.70\t0.9785\n",
      "freq\tTrue\t1-6\t0.20\t0.9593\n",
      "freq\tTrue\t1-6\t0.25\t0.9835\n",
      "freq\tTrue\t1-6\t0.30\t0.9824\n",
      "freq\tTrue\t1-6\t0.35\t0.9799\n",
      "freq\tTrue\t1-6\t0.40\t0.9769\n",
      "freq\tTrue\t1-6\t0.45\t0.9560\n",
      "freq\tTrue\t1-6\t0.50\t0.9550\n",
      "freq\tTrue\t1-6\t0.55\t0.0048\n",
      "freq\tTrue\t1-6\t0.60\t0.0000\n",
      "freq\tTrue\t1-6\t0.65\t0.0053\n",
      "freq\tTrue\t1-6\t0.70\t0.0000\n",
      "prob\tFalse\t1-1\t0.20\t0.9204\n",
      "prob\tFalse\t1-1\t0.25\t0.9939\n",
      "prob\tFalse\t1-1\t0.30\t0.9955\n",
      "prob\tFalse\t1-1\t0.35\t0.9974\n",
      "prob\tFalse\t1-1\t0.40\t0.9948\n",
      "prob\tFalse\t1-1\t0.45\t0.9855\n",
      "prob\tFalse\t1-1\t0.50\t0.9795\n",
      "prob\tFalse\t1-1\t0.55\t0.9485\n",
      "prob\tFalse\t1-1\t0.60\t0.8862\n",
      "prob\tFalse\t1-1\t0.65\t0.8006\n",
      "prob\tFalse\t1-1\t0.70\t0.6740\n",
      "prob\tFalse\t1-6\t0.20\t0.8632\n",
      "prob\tFalse\t1-6\t0.25\t0.9481\n",
      "prob\tFalse\t1-6\t0.30\t0.9003\n",
      "prob\tFalse\t1-6\t0.35\t0.7684\n",
      "prob\tFalse\t1-6\t0.40\t0.6257\n",
      "prob\tFalse\t1-6\t0.45\t0.4834\n",
      "prob\tFalse\t1-6\t0.50\t0.3855\n",
      "prob\tFalse\t1-6\t0.55\t0.3003\n",
      "prob\tFalse\t1-6\t0.60\t0.2896\n",
      "prob\tFalse\t1-6\t0.65\t0.2440\n",
      "prob\tFalse\t1-6\t0.70\t0.2430\n",
      "prob\tTrue\t1-1\t0.20\t0.8373\n",
      "prob\tTrue\t1-1\t0.25\t0.9910\n",
      "prob\tTrue\t1-1\t0.30\t0.9957\n",
      "prob\tTrue\t1-1\t0.35\t0.9958\n",
      "prob\tTrue\t1-1\t0.40\t0.9926\n",
      "prob\tTrue\t1-1\t0.45\t0.9870\n",
      "prob\tTrue\t1-1\t0.50\t0.9759\n",
      "prob\tTrue\t1-1\t0.55\t0.9525\n",
      "prob\tTrue\t1-1\t0.60\t0.8728\n",
      "prob\tTrue\t1-1\t0.65\t0.7348\n",
      "prob\tTrue\t1-1\t0.70\t0.4668\n",
      "prob\tTrue\t1-6\t0.20\t0.8287\n",
      "prob\tTrue\t1-6\t0.25\t0.9451\n",
      "prob\tTrue\t1-6\t0.30\t0.8897\n",
      "prob\tTrue\t1-6\t0.35\t0.7061\n",
      "prob\tTrue\t1-6\t0.40\t0.5442\n",
      "prob\tTrue\t1-6\t0.45\t0.2979\n",
      "prob\tTrue\t1-6\t0.50\t0.1206\n",
      "prob\tTrue\t1-6\t0.55\t0.0673\n",
      "prob\tTrue\t1-6\t0.60\t0.0614\n",
      "prob\tTrue\t1-6\t0.65\t0.0669\n",
      "prob\tTrue\t1-6\t0.70\t0.1061\n"
     ]
    }
   ],
   "source": [
    "for data, strategy, coreness, epsilon, value in scores_df.values:\n",
    "    print(f'{data}\\t{strategy}\\t{coreness}\\t{epsilon:.2f}\\t{value:6.4f}')"
   ]
  }
 ],
 "metadata": {
  "kernelspec": {
   "display_name": "bda",
   "language": "python",
   "name": "python3"
  },
  "language_info": {
   "codemirror_mode": {
    "name": "ipython",
    "version": 3
   },
   "file_extension": ".py",
   "mimetype": "text/x-python",
   "name": "python",
   "nbconvert_exporter": "python",
   "pygments_lexer": "ipython3",
   "version": "3.12.2"
  }
 },
 "nbformat": 4,
 "nbformat_minor": 2
}
