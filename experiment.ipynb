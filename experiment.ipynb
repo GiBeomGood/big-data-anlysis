{
 "cells": [
  {
   "cell_type": "code",
   "execution_count": 1,
   "metadata": {},
   "outputs": [],
   "source": [
    "import argparse\n",
    "\n",
    "from communityDetection import load_network\n",
    "from models import *"
   ]
  },
  {
   "cell_type": "code",
   "execution_count": 2,
   "metadata": {},
   "outputs": [],
   "source": [
    "args = argparse.Namespace(\n",
    "    networkFile='TC1/TC1-1/1-1.dat',\n",
    "    communityFile='TC1/TC1-1/1-1-c.dat',\n",
    "    # communityFile=None,\n",
    "    communitySavePath='TC1/TC1-1/1-1.cmty',\n",
    ")\n",
    "\n",
    "graph = load_network(args.networkFile)"
   ]
  },
  {
   "cell_type": "code",
   "execution_count": 3,
   "metadata": {},
   "outputs": [],
   "source": [
    "epsilon = 0.50"
   ]
  },
  {
   "cell_type": "code",
   "execution_count": 4,
   "metadata": {},
   "outputs": [
    {
     "name": "stderr",
     "output_type": "stream",
     "text": [
      "Epoch   0: 100%|██████████| 10000/10000 [00:01<00:00, 5307.34it/s, eval score=91.2%, no friend=124]\n",
      "Epoch   1: 100%|██████████| 10000/10000 [00:01<00:00, 5778.52it/s, eval score=99.2%, no friend=124]\n",
      "Epoch   2: 100%|██████████| 10000/10000 [00:01<00:00, 5397.56it/s, eval score=99.8%, no friend=124]\n",
      "Epoch   3: 100%|██████████| 10000/10000 [00:01<00:00, 5136.58it/s, eval score=99.9%, no friend=124]\n",
      "Epoch   4: 100%|██████████| 10000/10000 [00:02<00:00, 4563.67it/s, eval score=99.9%, no friend=124]\n",
      "Epoch   5: 100%|██████████| 10000/10000 [00:02<00:00, 4565.22it/s, eval score=99.9%, no friend=124]\n",
      "Epoch   6: 100%|██████████| 10000/10000 [00:02<00:00, 4332.25it/s, eval score=100.0%, no friend=124]\n",
      "Epoch   7: 100%|██████████| 10000/10000 [00:01<00:00, 5488.77it/s, eval score=100.0%, no friend=124]\n",
      "Epoch   8: 100%|██████████| 10000/10000 [00:01<00:00, 5812.88it/s, eval score=100.0%, no friend=124]\n",
      "Epoch   9: 100%|██████████| 10000/10000 [00:01<00:00, 5533.02it/s, eval score=100.0%, no friend=124]\n",
      "Epoch  10: 100%|██████████| 10000/10000 [00:01<00:00, 6054.43it/s, eval score=100.0%, no friend=124]\n",
      "Epoch  11: 100%|██████████| 10000/10000 [00:01<00:00, 6296.10it/s, eval score=100.0%, no friend=124]\n",
      "Epoch  12: 100%|██████████| 10000/10000 [00:01<00:00, 5908.43it/s, eval score=100.0%, no friend=124]\n",
      "Epoch  13: 100%|██████████| 10000/10000 [00:01<00:00, 5996.51it/s, eval score=100.0%, no friend=124]\n",
      "Epoch  14: 100%|██████████| 10000/10000 [00:01<00:00, 6068.12it/s, eval score=100.0%, no friend=124]\n",
      "Epoch  15: 100%|██████████| 10000/10000 [00:01<00:00, 6084.12it/s, eval score=100.0%, no friend=124]\n",
      "Epoch  16: 100%|██████████| 10000/10000 [00:01<00:00, 6112.83it/s, eval score=100.0%, no friend=124]\n",
      "Epoch  17: 100%|██████████| 10000/10000 [00:01<00:00, 5946.88it/s, eval score=100.0%, no friend=124]\n",
      "Epoch  18: 100%|██████████| 10000/10000 [00:01<00:00, 5724.83it/s, eval score=100.0%, no friend=124]\n",
      "Epoch  19: 100%|██████████| 10000/10000 [00:02<00:00, 4472.63it/s, eval score=100.0%, no friend=124]\n"
     ]
    }
   ],
   "source": [
    "labels = my_nlta(graph, epsilon, strategy='freq', true_file_path=args.communityFile, max_epochs=20)"
   ]
  }
 ],
 "metadata": {
  "kernelspec": {
   "display_name": "bda",
   "language": "python",
   "name": "python3"
  },
  "language_info": {
   "codemirror_mode": {
    "name": "ipython",
    "version": 3
   },
   "file_extension": ".py",
   "mimetype": "text/x-python",
   "name": "python",
   "nbconvert_exporter": "python",
   "pygments_lexer": "ipython3",
   "version": "3.12.2"
  }
 },
 "nbformat": 4,
 "nbformat_minor": 2
}
