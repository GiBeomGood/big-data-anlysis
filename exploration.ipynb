{
 "cells": [
  {
   "cell_type": "code",
   "execution_count": 1,
   "metadata": {},
   "outputs": [],
   "source": [
    "import argparse\n",
    "from math import sqrt\n",
    "from random import choice, sample\n",
    "\n",
    "import community as louvain\n",
    "import networkx as nx\n",
    "from tqdm import tqdm\n",
    "\n",
    "from communityDetection import load_network\n",
    "from evaluation import calculate_nmi, load_ground_truth\n",
    "from models import *\n",
    "from models.nlta import frequentest_label, max_freq_check\n",
    "from utils import community_to_node, eval"
   ]
  },
  {
   "cell_type": "code",
   "execution_count": 2,
   "metadata": {},
   "outputs": [],
   "source": [
    "args = argparse.Namespace(\n",
    "    networkFile='TC2/tc11.dat',\n",
    "    communityFile=None,\n",
    "    communitySavePath='TC2/tc11.cmty',\n",
    ")\n",
    "\n",
    "graph = load_network(args.networkFile)"
   ]
  },
  {
   "cell_type": "code",
   "execution_count": 3,
   "metadata": {},
   "outputs": [
    {
     "name": "stderr",
     "output_type": "stream",
     "text": [
      "Core Labeling: 100%|██████████| 10000/10000 [00:01<00:00, 5262.93it/s, core prop=85.5%, label=756]\n",
      "Epoch       0:  99%|█████████▉| 9885/10000 [00:01<00:00, 7546.25it/s]"
     ]
    },
    {
     "ename": "TypeError",
     "evalue": "expected str, bytes or os.PathLike object, not NoneType",
     "output_type": "error",
     "traceback": [
      "\u001b[0;31m---------------------------------------------------------------------------\u001b[0m",
      "\u001b[0;31mTypeError\u001b[0m                                 Traceback (most recent call last)",
      "Cell \u001b[0;32mIn[3], line 3\u001b[0m\n\u001b[1;32m      1\u001b[0m \u001b[38;5;28;01mfrom\u001b[39;00m \u001b[38;5;21;01mmodels\u001b[39;00m \u001b[38;5;28;01mimport\u001b[39;00m my_algorithm\n\u001b[0;32m----> 3\u001b[0m \u001b[43mmy_algorithm\u001b[49m\u001b[43m(\u001b[49m\u001b[43mgraph\u001b[49m\u001b[43m,\u001b[49m\u001b[43m \u001b[49m\u001b[38;5;241;43m0.3\u001b[39;49m\u001b[43m,\u001b[49m\u001b[43m \u001b[49m\u001b[38;5;241;43m2\u001b[39;49m\u001b[43m,\u001b[49m\u001b[43m \u001b[49m\u001b[38;5;28;43;01mNone\u001b[39;49;00m\u001b[43m,\u001b[49m\u001b[43m \u001b[49m\u001b[43mepochs\u001b[49m\u001b[38;5;241;43m=\u001b[39;49m\u001b[38;5;241;43m50\u001b[39;49m\u001b[43m)\u001b[49m\n",
      "File \u001b[0;32m~/kwon/2024-server/Big Data Analysis/models/scan.py:182\u001b[0m, in \u001b[0;36mmy_algorithm\u001b[0;34m(graph, epsilon, mu, true_file_path, epochs)\u001b[0m\n\u001b[1;32m    179\u001b[0m         labels[node] \u001b[38;5;241m=\u001b[39m label \u001b[38;5;241m/\u001b[39m neighbor_num\n\u001b[1;32m    181\u001b[0m     pbar_update()\n\u001b[0;32m--> 182\u001b[0m eval_score \u001b[38;5;241m=\u001b[39m \u001b[38;5;28;43meval\u001b[39;49m\u001b[43m(\u001b[49m\u001b[38;5;28;43mdict\u001b[39;49m\u001b[43m(\u001b[49m\u001b[43m(\u001b[49m\u001b[43mkey\u001b[49m\u001b[43m,\u001b[49m\u001b[43m \u001b[49m\u001b[38;5;28;43mround\u001b[39;49m\u001b[43m(\u001b[49m\u001b[43mvalue\u001b[49m\u001b[43m)\u001b[49m\u001b[43m)\u001b[49m\u001b[43m \u001b[49m\u001b[38;5;28;43;01mfor\u001b[39;49;00m\u001b[43m \u001b[49m\u001b[43mkey\u001b[49m\u001b[43m,\u001b[49m\u001b[43m \u001b[49m\u001b[43mvalue\u001b[49m\u001b[43m \u001b[49m\u001b[38;5;129;43;01min\u001b[39;49;00m\u001b[43m \u001b[49m\u001b[43mlabels\u001b[49m\u001b[38;5;241;43m.\u001b[39;49m\u001b[43mitems\u001b[49m\u001b[43m(\u001b[49m\u001b[43m)\u001b[49m\u001b[43m)\u001b[49m\u001b[43m,\u001b[49m\u001b[43m \u001b[49m\u001b[43mtrue_file_path\u001b[49m\u001b[43m)\u001b[49m\n\u001b[1;32m    183\u001b[0m pbar\u001b[38;5;241m.\u001b[39mset_postfix({\u001b[38;5;124m'\u001b[39m\u001b[38;5;124meval score\u001b[39m\u001b[38;5;124m'\u001b[39m: \u001b[38;5;124mf\u001b[39m\u001b[38;5;124m'\u001b[39m\u001b[38;5;132;01m{\u001b[39;00meval_score\u001b[38;5;132;01m:\u001b[39;00m\u001b[38;5;124m.1%\u001b[39m\u001b[38;5;132;01m}\u001b[39;00m\u001b[38;5;124m'\u001b[39m})\n\u001b[1;32m    184\u001b[0m pbar\u001b[38;5;241m.\u001b[39mclose()\n",
      "File \u001b[0;32m~/kwon/2024-server/Big Data Analysis/utils/util.py:17\u001b[0m, in \u001b[0;36meval\u001b[0;34m(labels, true_file_path)\u001b[0m\n\u001b[1;32m     15\u001b[0m \u001b[38;5;28;01mdef\u001b[39;00m \u001b[38;5;21meval\u001b[39m(labels, true_file_path):\n\u001b[1;32m     16\u001b[0m     partition \u001b[38;5;241m=\u001b[39m community_to_node(labels)\n\u001b[0;32m---> 17\u001b[0m     true_partition \u001b[38;5;241m=\u001b[39m \u001b[43mload_ground_truth\u001b[49m\u001b[43m(\u001b[49m\u001b[43mtrue_file_path\u001b[49m\u001b[43m)\u001b[49m\n\u001b[1;32m     18\u001b[0m     nmi_score \u001b[38;5;241m=\u001b[39m calculate_nmi(true_partition, partition)\n\u001b[1;32m     19\u001b[0m     \u001b[38;5;28;01mreturn\u001b[39;00m nmi_score\n",
      "File \u001b[0;32m~/kwon/2024-server/Big Data Analysis/evaluation.py:9\u001b[0m, in \u001b[0;36mload_ground_truth\u001b[0;34m(file_path)\u001b[0m\n\u001b[1;32m      7\u001b[0m \u001b[38;5;28;01mdef\u001b[39;00m \u001b[38;5;21mload_ground_truth\u001b[39m(file_path):\n\u001b[1;32m      8\u001b[0m     node_to_community \u001b[38;5;241m=\u001b[39m {}\n\u001b[0;32m----> 9\u001b[0m     \u001b[38;5;28;01mwith\u001b[39;00m \u001b[38;5;28;43mopen\u001b[39;49m\u001b[43m(\u001b[49m\u001b[43mfile_path\u001b[49m\u001b[43m,\u001b[49m\u001b[43m \u001b[49m\u001b[38;5;124;43m'\u001b[39;49m\u001b[38;5;124;43mr\u001b[39;49m\u001b[38;5;124;43m'\u001b[39;49m\u001b[43m)\u001b[49m \u001b[38;5;28;01mas\u001b[39;00m f:\n\u001b[1;32m     10\u001b[0m         \u001b[38;5;28;01mfor\u001b[39;00m line \u001b[38;5;129;01min\u001b[39;00m f:\n\u001b[1;32m     11\u001b[0m             parts \u001b[38;5;241m=\u001b[39m line\u001b[38;5;241m.\u001b[39mstrip()\u001b[38;5;241m.\u001b[39msplit()\n",
      "\u001b[0;31mTypeError\u001b[0m: expected str, bytes or os.PathLike object, not NoneType"
     ]
    }
   ],
   "source": [
    "from models import my_algorithm\n",
    "\n",
    "my_algorithm(graph, 0.3, 2, None, epochs=50)"
   ]
  },
  {
   "cell_type": "code",
   "execution_count": null,
   "metadata": {},
   "outputs": [],
   "source": [
    "def get_relationship(node1, node2, graph: nx.classes.graph.Graph):\n",
    "    neighbors_1 = set(graph.neighbors(node1))\n",
    "    neighbors_2 = set(graph.neighbors(node2)) | {node2}\n",
    "\n",
    "    relationship = len(neighbors_1 & neighbors_2) / len(neighbors_1)\n",
    "    return relationship\n",
    "\n",
    "\n",
    "def get_relative_neighbors(node1, epsilon, graph: nx.classes.graph.Graph):\n",
    "    neighbors_1 = graph.neighbors(node1)\n",
    "    result = tuple(node for node in neighbors_1 if get_relationship(node1, node, graph) >= epsilon)\n",
    "\n",
    "    return result\n",
    "\n",
    "\n",
    "# def binary_to_decimal(binary: tuple[float]):\n",
    "#     result = sum(2**exponent * coef for exponent, coef in enumerate(binary[::-1]))\n",
    "\n",
    "#     return result\n",
    "\n",
    "\n",
    "# def binary_mean(binary1: tuple[float], *args):\n",
    "#     result = tuple(sum(coefs)/len(coefs) for coefs in zip(binary1, *args))\n",
    "\n",
    "#     return result"
   ]
  },
  {
   "cell_type": "code",
   "execution_count": null,
   "metadata": {},
   "outputs": [],
   "source": [
    "def my_nlta(graph: nx.classes.graph.Graph, epsilon, true_file_path=None, max_epochs=100):\n",
    "    nodes = tuple(graph.nodes())\n",
    "    nodes_num = len(nodes)\n",
    "    stop_iteration = False\n",
    "    epoch = 0\n",
    "\n",
    "    indices = sample(range(nodes_num), k=nodes_num)\n",
    "    nodes = tuple(nodes[index] for index in indices)\n",
    "    del indices\n",
    "    labels = dict((node, node) for node in nodes)\n",
    "\n",
    "    while stop_iteration is False and epoch < max_epochs:\n",
    "        # phase 1\n",
    "        pbar = tqdm(total=nodes_num, desc=f'Epoch {epoch:3d}')\n",
    "        pbar_update = pbar.update\n",
    "        postfix = dict()\n",
    "        non_neighbor_count = 0\n",
    "\n",
    "        for node in nodes:\n",
    "            neighbors = get_relative_neighbors(node, epsilon, graph)\n",
    "            neighbors_size = len(neighbors)\n",
    "            if neighbors_size == 0:\n",
    "                neighbors = tuple(graph.neighbors(node))\n",
    "                neighbors_size = len(neighbors)\n",
    "                non_neighbor_count += 1\n",
    "\n",
    "            neighbors_labels = tuple(labels[neighbor] for neighbor in neighbors)\n",
    "            # labels[node] = choice(neighbors_labels)\n",
    "            labels[node] = frequentest_label(neighbors_labels)\n",
    "\n",
    "            pbar_update()\n",
    "            \n",
    "        if true_file_path is not None:\n",
    "            eval_score = eval(labels, true_file_path)\n",
    "            postfix['eval score'] = f'{eval_score:6.1%}'\n",
    "            \n",
    "        postfix['no friend'] = f'{non_neighbor_count:4d}'\n",
    "        pbar.set_postfix(postfix)\n",
    "        pbar.close()\n",
    "\n",
    "        # phase 2\n",
    "        for node in nodes:\n",
    "            check = max_freq_check(node, labels[node], labels, graph)\n",
    "            if check is False:\n",
    "                stop_iteration = False\n",
    "                break\n",
    "            \n",
    "            stop_iteration = True\n",
    "\n",
    "        # etc.\n",
    "        epoch += 1\n",
    "\n",
    "    labels = dict((key, (round(value) if value is not None else None)) for key, value in labels.items())\n",
    "    labels = dict(sorted(labels.items(), key=lambda x: x[0]))  # sort by node in ascending order\n",
    "\n",
    "    return labels"
   ]
  },
  {
   "cell_type": "code",
   "execution_count": null,
   "metadata": {},
   "outputs": [],
   "source": [
    "labels = nlta_algorithm(graph, args.communityFile, 10)"
   ]
  }
 ],
 "metadata": {
  "kernelspec": {
   "display_name": "bda",
   "language": "python",
   "name": "python3"
  },
  "language_info": {
   "codemirror_mode": {
    "name": "ipython",
    "version": 3
   },
   "file_extension": ".py",
   "mimetype": "text/x-python",
   "name": "python",
   "nbconvert_exporter": "python",
   "pygments_lexer": "ipython3",
   "version": "3.12.2"
  }
 },
 "nbformat": 4,
 "nbformat_minor": 2
}
