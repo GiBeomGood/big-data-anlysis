{
 "cells": [
  {
   "cell_type": "code",
   "execution_count": null,
   "metadata": {},
   "outputs": [],
   "source": [
    "import argparse\n",
    "from itertools import product\n",
    "from math import sqrt\n",
    "\n",
    "import community as louvain\n",
    "import networkx as nx\n",
    "from tqdm import tqdm\n",
    "\n",
    "from communityDetection import load_network\n",
    "from evaluation import calculate_nmi\n",
    "from models import *\n",
    "from utils import community_to_node, eval"
   ]
  },
  {
   "cell_type": "code",
   "execution_count": null,
   "metadata": {},
   "outputs": [],
   "source": [
    "scores = dict()\n",
    "grid = {\n",
    "    'data_path': [\n",
    "        'TC1/TC1-1/1-1',\n",
    "        'TC1/TC1-6/1-6',\n",
    "    ],\n",
    "    'mu': [2, 3, 4],\n",
    "    'epsilon': [0.5, 0.55, 0.6, 0.65, 0.7, 0.75, 0.8],\n",
    "}\n",
    "\n",
    "for data_path, epsilon, mu in product(*grid.values()):\n",
    "    args = argparse.Namespace(\n",
    "        networkFile=f'{data_path}.dat',\n",
    "        communityFile=f'{data_path}-c.dat',\n",
    "        communitySavePath=f'{data_path}.cmty',\n",
    "    )\n",
    "    graph = load_network(args.networkFile)\n",
    "    labels = scan_algorithm(graph, epsilon, mu)\n",
    "    score = eval(labels, args.communityFile)"
   ]
  }
 ],
 "metadata": {
  "kernelspec": {
   "display_name": "bda",
   "language": "python",
   "name": "python3"
  },
  "language_info": {
   "codemirror_mode": {
    "name": "ipython",
    "version": 3
   },
   "file_extension": ".py",
   "mimetype": "text/x-python",
   "name": "python",
   "nbconvert_exporter": "python",
   "pygments_lexer": "ipython3",
   "version": "3.12.2"
  }
 },
 "nbformat": 4,
 "nbformat_minor": 2
}
