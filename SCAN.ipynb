{
 "cells": [
  {
   "cell_type": "code",
   "execution_count": 1,
   "metadata": {},
   "outputs": [],
   "source": [
    "import argparse\n",
    "from math import sqrt\n",
    "\n",
    "import community as louvain\n",
    "import networkx as nx\n",
    "from tqdm import tqdm\n",
    "\n",
    "from communityDetection import load_network\n",
    "from evaluation import calculate_nmi\n",
    "from models import *\n",
    "from utils import community_to_node, eval"
   ]
  },
  {
   "cell_type": "code",
   "execution_count": 2,
   "metadata": {},
   "outputs": [],
   "source": [
    "args = argparse.Namespace(\n",
    "    networkFile='./sample_code/data/1-1.dat',\n",
    "    communityFile='./sample_code/data/1-1-c.dat',\n",
    "    communitySavePath='./sample_code/data/1-1.cmty',\n",
    ")\n",
    "\n",
    "graph = load_network(args.networkFile)"
   ]
  },
  {
   "cell_type": "code",
   "execution_count": 3,
   "metadata": {},
   "outputs": [],
   "source": [
    "args = argparse.Namespace(\n",
    "    networkFile='./TC1/tc11.dat',\n",
    "    # communityFile='./TC1/tc11-c.dat',\n",
    "    communitySavePath='./TC1/tc11.fuck.cmty',\n",
    ")\n",
    "\n",
    "graph = load_network(args.networkFile)"
   ]
  },
  {
   "cell_type": "code",
   "execution_count": 4,
   "metadata": {},
   "outputs": [
    {
     "name": "stderr",
     "output_type": "stream",
     "text": [
      "Epoch   0: 100%|██████████| 10000/10000 [00:00<00:00, 70351.45it/s]\n",
      "Epoch   1: 100%|██████████| 10000/10000 [00:00<00:00, 96801.53it/s]\n",
      "Epoch   2: 100%|██████████| 10000/10000 [00:00<00:00, 100324.68it/s]\n",
      "Epoch   3: 100%|██████████| 10000/10000 [00:00<00:00, 100179.71it/s]\n",
      "Epoch   4: 100%|██████████| 10000/10000 [00:00<00:00, 96866.81it/s]\n",
      "Epoch   5: 100%|██████████| 10000/10000 [00:00<00:00, 101846.01it/s]\n"
     ]
    }
   ],
   "source": [
    "labels_nlta = nlta_algorithm(graph, true_file_path=None, max_epochs=100)"
   ]
  },
  {
   "cell_type": "code",
   "execution_count": 5,
   "metadata": {},
   "outputs": [],
   "source": [
    "labels_louvain = louvain.best_partition(graph)\n",
    "labels_louvain = dict(sorted(labels_louvain.items(), key=lambda x: x[0]))"
   ]
  },
  {
   "cell_type": "code",
   "execution_count": 6,
   "metadata": {},
   "outputs": [
    {
     "data": {
      "text/plain": [
       "0.941461243209702"
      ]
     },
     "execution_count": 6,
     "metadata": {},
     "output_type": "execute_result"
    }
   ],
   "source": [
    "calculate_nmi(community_to_node(labels_nlta), community_to_node(labels_louvain))"
   ]
  }
 ],
 "metadata": {
  "kernelspec": {
   "display_name": "bda",
   "language": "python",
   "name": "python3"
  },
  "language_info": {
   "codemirror_mode": {
    "name": "ipython",
    "version": 3
   },
   "file_extension": ".py",
   "mimetype": "text/x-python",
   "name": "python",
   "nbconvert_exporter": "python",
   "pygments_lexer": "ipython3",
   "version": "3.12.2"
  }
 },
 "nbformat": 4,
 "nbformat_minor": 2
}
